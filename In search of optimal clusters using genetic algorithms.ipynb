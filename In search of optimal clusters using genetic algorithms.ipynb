{
 "cells": [
  {
   "cell_type": "code",
   "execution_count": 24,
   "metadata": {},
   "outputs": [],
   "source": [
    "import math\n",
    "import random\n",
    "from random import randrange\n",
    "from deap import creator, base, tools, algorithms"
   ]
  },
  {
   "cell_type": "markdown",
   "metadata": {},
   "source": [
    "GA"
   ]
  },
  {
   "cell_type": "code",
   "execution_count": 55,
   "metadata": {},
   "outputs": [],
   "source": [
    "def fitness_function(individual):\n",
    "    return (sum(individual),)"
   ]
  },
  {
   "cell_type": "code",
   "execution_count": 56,
   "metadata": {},
   "outputs": [
    {
     "name": "stderr",
     "output_type": "stream",
     "text": [
      "/home/karine/anaconda3/lib/python3.6/site-packages/deap/creator.py:141: RuntimeWarning: A class named 'FitnessMax' has already been created and it will be overwritten. Consider deleting previous creation of that class or rename it.\n",
      "  RuntimeWarning)\n",
      "/home/karine/anaconda3/lib/python3.6/site-packages/deap/creator.py:141: RuntimeWarning: A class named 'Individual' has already been created and it will be overwritten. Consider deleting previous creation of that class or rename it.\n",
      "  RuntimeWarning)\n"
     ]
    }
   ],
   "source": [
    "#Define uma classe como função de maximização\n",
    "creator.create(\"FitnessMax\", base.Fitness, weights=(1.0,))\n",
    "creator.create(\"Individual\", list, fitness=creator.FitnessMax)\n",
    "\n",
    "toolbox = base.Toolbox()\n",
    "toolbox.register(\"bit\", random.randint, 0, 1)\n",
    "toolbox.register(\"individual\", tools.initRepeat,creator.Individual, toolbox.bit, n=100)\n",
    "toolbox.register(\"population\", tools.initRepeat,list, toolbox.individual, n=8)\n",
    "toolbox.register(\"evaluate\", fitness_function)\n",
    "toolbox.register(\"mate\", tools.cxTwoPoints)\n",
    "toolbox.register(\"mutate\", tools.mutUniformInt,low = 0, up = 1000, indpb=0.5)\n",
    "toolbox.register(\"select\", tools.selTournament,tournsize=8)\n",
    "toolbox.register(\"map\", map)"
   ]
  },
  {
   "cell_type": "code",
   "execution_count": 58,
   "metadata": {},
   "outputs": [],
   "source": [
    "CXPB, MUTPB, NGEN = 0.8, 0.5, 40\n",
    "pop = toolbox.population()\n",
    "#pop = algorithms.eaSimple(pop, toolbox, CXPB, MUTPB, NGEN)"
   ]
  },
  {
   "cell_type": "code",
   "execution_count": null,
   "metadata": {},
   "outputs": [],
   "source": [
    "#fits = toolbox.map(toolbox.evaluate, pop)\n",
    "#for ind, fit in zip(pop, fits):\n",
    "#    ind.fitness.values = fit"
   ]
  },
  {
   "cell_type": "code",
   "execution_count": 59,
   "metadata": {},
   "outputs": [
    {
     "name": "stderr",
     "output_type": "stream",
     "text": [
      "/home/karine/anaconda3/lib/python3.6/site-packages/deap/tools/crossover.py:65: FutureWarning: tools.cxTwoPoints has been renamed. Use cxTwoPoint instead.\n",
      "  FutureWarning)\n"
     ]
    }
   ],
   "source": [
    "for g in range(NGEN):\n",
    "    pop = toolbox.select(pop, k=len(pop))\n",
    "    #pop = algorithms.varAnd(pop, toolbox, CXPB, MUTPB)\n",
    "    \n",
    "    pop = [toolbox.clone(ind) for ind in pop]\n",
    "    \n",
    "    for child1, child2 in zip(pop[::2], pop[1::2]):\n",
    "        if random.random() < CXPB:\n",
    "            toolbox.mate(child1, child2)\n",
    "            del child1.fitness.values\n",
    "            del child2.fitness.values\n",
    "        \n",
    "    for mutant in pop:\n",
    "        if random.random() < MUTPB:\n",
    "            toolbox.mutate(mutant)\n",
    "            del mutant.fitness.values   \n",
    "    \n",
    "    fits = toolbox.map(toolbox.evaluate, pop)\n",
    "    for ind, fit in zip(pop, fits):\n",
    "        ind.fitness.values = fit"
   ]
  },
  {
   "cell_type": "markdown",
   "metadata": {},
   "source": [
    "Experiment 1"
   ]
  },
  {
   "cell_type": "code",
   "execution_count": null,
   "metadata": {},
   "outputs": [],
   "source": [
    "def distanciaEuclidiana(ponto1, ponto2):\n",
    "    x1,y1 = ponto1\n",
    "    x2,y2 = ponto2\n",
    "    \n",
    "    dist = math.sqrt((x2 - x1)**2 + (y2 - y1)**2)\n",
    "    return dist"
   ]
  },
  {
   "cell_type": "code",
   "execution_count": 11,
   "metadata": {},
   "outputs": [
    {
     "name": "stdout",
     "output_type": "stream",
     "text": [
      "37.48332962798263\n"
     ]
    }
   ],
   "source": [
    "random.seed(9001) #Para gerar sempre a mesma sequência\n",
    "\n",
    "# Criação de 3 datasets com 10 pontos gerados aleatoriamente no R²\n",
    "dataset1 = [(randrange(1000), randrange(1000)) for _ in range(10)]\n",
    "dataset2 = [(randrange(1000), randrange(1000)) for _ in range(10)]\n",
    "dataset3 = [(randrange(1000), randrange(1000)) for _ in range(10)]\n",
    "\n",
    "d_dataset1 = 1000\n",
    "d_dataset2 = 1000\n",
    "d_dataset3 = 1000\n",
    "\n",
    "#Calcula o valor ótimo da objective function f para K = 2 (2 clusters) usando a ES (busca exaustiva)\n",
    "def ES_k2(dataset, dist):\n",
    "    for ponto1, i in zip(dataset, range(10)):\n",
    "        for ponto2, j in zip(dataset, range(10)):\n",
    "            if i != j: #Ou seja, nao está faznedo a distância do ponto para ele mesmo\n",
    "                d = distanciaEuclidiana(ponto1, ponto2)\n",
    "                #Atualiza a menor distância\n",
    "                if d < dist:\n",
    "                    dist = d\n",
    "    return dist\n",
    "    \n",
    "    \n",
    "#Executa a busca exaustiva para os 3 datasets\n",
    "\n",
    "d_dataset1 = ES_k2(dataset1, d_dataset1)\n",
    "d_dataset2 = ES_k2(dataset2, d_dataset2)\n",
    "d_dataset3 = ES_k2(dataset3, d_dataset3)\n",
    "\n",
    "print (d_dataset1)            "
   ]
  },
  {
   "cell_type": "markdown",
   "metadata": {},
   "source": [
    "Experiment 2"
   ]
  },
  {
   "cell_type": "code",
   "execution_count": 23,
   "metadata": {},
   "outputs": [],
   "source": [
    "random.seed(806) #Para gerar sempre a mesma sequência\n",
    "\n",
    "# Criação de 5 datasets com 50 pontos gerados aleatoriamente no R²\n",
    "classe1 = [(randrange(0,500), randrange(0,500)) for _ in range(50)]\n",
    "classe2 = [(randrange(1000,1500), randrange(1000,1500)) for _ in range(50)]\n",
    "classe3 = [(randrange(2000,2500), randrange(2000,2500)) for _ in range(50)]\n",
    "classe4 = [(randrange(3000,3500), randrange(3000,3500)) for _ in range(50)]\n"
   ]
  },
  {
   "cell_type": "markdown",
   "metadata": {},
   "source": [
    "Experiment 3"
   ]
  },
  {
   "cell_type": "code",
   "execution_count": null,
   "metadata": {},
   "outputs": [],
   "source": [
    "random.seed(806) #Para gerar sempre a mesma sequência\n",
    "\n",
    "# Criação de 5 datasets com 50 pontos gerados aleatoriamente no R²\n",
    "classe1 = [(randrange(0,500), randrange(0,500)) for _ in range(50)]\n",
    "classe2 = [(randrange(1000,1500), randrange(1000,1500)) for _ in range(50)]\n",
    "classe3 = [(randrange(2000,2500), randrange(2000,2500)) for _ in range(50)]\n",
    "classe4 = [(randrange(3000,3500), randrange(3000,3500)) for _ in range(50)]"
   ]
  }
 ],
 "metadata": {
  "kernelspec": {
   "display_name": "Python 3",
   "language": "python",
   "name": "python3"
  },
  "language_info": {
   "codemirror_mode": {
    "name": "ipython",
    "version": 3
   },
   "file_extension": ".py",
   "mimetype": "text/x-python",
   "name": "python",
   "nbconvert_exporter": "python",
   "pygments_lexer": "ipython3",
   "version": "3.6.5"
  }
 },
 "nbformat": 4,
 "nbformat_minor": 2
}
