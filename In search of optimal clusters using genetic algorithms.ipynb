{
 "cells": [
  {
   "cell_type": "markdown",
   "metadata": {},
   "source": [
    "Experiment 1"
   ]
  },
  {
   "cell_type": "code",
   "execution_count": 20,
   "metadata": {},
   "outputs": [],
   "source": [
    "import math\n",
    "\n",
    "def distanciaEuclidiana(ponto1, ponto2):\n",
    "    x1,y1 = ponto1\n",
    "    x2,y2 = ponto2\n",
    "    \n",
    "    dist = math.sqrt((x2 - x1)**2 + (y2 - y1)**2)\n",
    "    return dist\n"
   ]
  },
  {
   "cell_type": "code",
   "execution_count": 23,
   "metadata": {},
   "outputs": [
    {
     "data": {
      "text/plain": [
       "90"
      ]
     },
     "execution_count": 23,
     "metadata": {},
     "output_type": "execute_result"
    }
   ],
   "source": [
    "from random import randrange\n",
    "\n",
    "random.seed(9001) #Para gerar sempre a mesma sequência\n",
    "\n",
    "# Criação de 3 datasets com 10 pontos gerados aleatoriamente no R²\n",
    "dataset1 = [(randrange(1000), randrange(1000)) for _ in range(10)]\n",
    "dataset2 = [(randrange(1000), randrange(1000)) for _ in range(10)]\n",
    "dataset3 = [(randrange(1000), randrange(1000)) for _ in range(10)]\n",
    "\n",
    "\n",
    "#Calcula o valor ótimo da objective function f para K = 2 (2 clusters) usando a ES (busca exaustiva)\n",
    "for ponto1, i in zip(dataset1, range(10)):\n",
    "    for ponto2, j in zip(dataset1, range(10)):\n",
    "        if i != j: #Ou seja, nao está faznedo a distância do ponto para ele mesmo\n",
    "            print(distanciaEuclidiana(ponto1, ponto2))\n",
    "            \n",
    "            "
   ]
  }
 ],
 "metadata": {
  "kernelspec": {
   "display_name": "Python 3",
   "language": "python",
   "name": "python3"
  },
  "language_info": {
   "codemirror_mode": {
    "name": "ipython",
    "version": 3
   },
   "file_extension": ".py",
   "mimetype": "text/x-python",
   "name": "python",
   "nbconvert_exporter": "python",
   "pygments_lexer": "ipython3",
   "version": "3.7.3"
  }
 },
 "nbformat": 4,
 "nbformat_minor": 2
}
