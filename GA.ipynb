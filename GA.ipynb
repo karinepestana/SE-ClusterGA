{
 "cells": [
  {
   "cell_type": "markdown",
   "metadata": {},
   "source": [
    "GA"
   ]
  },
  {
   "cell_type": "code",
   "execution_count": 18,
   "metadata": {},
   "outputs": [],
   "source": [
    "import math\n",
    "import random\n",
    "from random import randrange\n",
    "from deap import creator, base, tools, algorithms"
   ]
  },
  {
   "cell_type": "code",
   "execution_count": 19,
   "metadata": {},
   "outputs": [],
   "source": [
    "def distanciaEuclidiana(ponto1, ponto2):\n",
    "    x1,y1 = ponto1\n",
    "    x2,y2 = ponto2\n",
    "    \n",
    "    dist = math.sqrt((x2 - x1)**2 + (y2 - y1)**2)\n",
    "    return dist"
   ]
  },
  {
   "cell_type": "code",
   "execution_count": null,
   "metadata": {},
   "outputs": [],
   "source": [
    "def separa_clusters(dataset, c)\n",
    "    clusters_1 = []\n",
    "    clusters_2 = []\n",
    "    for i in dataset:\n",
    "        c1 = distanciaEuclidiana(i, (x1, y1))\n",
    "        c2 = distanciaEuclidiana(i, (x2, y2))\n",
    "        \n",
    "        if c1 < c2:\n",
    "            clusters_1.append(i)\n",
    "        else:\n",
    "            clusters_2.append(i)\n",
    "            \n",
    "    return clusters_1, clusters_2"
   ]
  },
  {
   "cell_type": "code",
   "execution_count": 38,
   "metadata": {},
   "outputs": [],
   "source": [
    "def converte_individuos(individual):\n",
    "    x1 = ''\n",
    "    y1 = ''\n",
    "    x2 = ''\n",
    "    y2 = ''\n",
    "    \n",
    "    for item in individual[:7]:\n",
    "        x1 = x1 + str(item)    \n",
    "    x1 = int(x1, 2)\n",
    "    \n",
    "    for item in individual[7:14]:\n",
    "        y1 = y1 + str(item)    \n",
    "    y1 = int(y1, 2)\n",
    "    \n",
    "    for item in individual[14:21]:\n",
    "        x2 = x2 + str(item)    \n",
    "    x2 = int(x2, 2)\n",
    "    \n",
    "    for item in individual[21:28]:\n",
    "        y2 = y2 + str(item)    \n",
    "    y2 = int(y2, 2)\n",
    "    \n",
    "    return (x1,y1), (x2, y2)"
   ]
  },
  {
   "cell_type": "code",
   "execution_count": 46,
   "metadata": {},
   "outputs": [],
   "source": [
    "# eveluate each individual\n",
    "def evalOneMax(individual):\n",
    "    #preparação dos dados\n",
    "    x1 = ''\n",
    "    y1 = ''\n",
    "    x2 = ''\n",
    "    y2 = ''\n",
    "    \n",
    "    for item in individual[:7]:\n",
    "        x1 = x1 + str(item)    \n",
    "    x1 = int(x1, 2)\n",
    "    \n",
    "    for item in individual[7:14]:\n",
    "        y1 = y1 + str(item)    \n",
    "    y1 = int(y1, 2)\n",
    "    \n",
    "    for item in individual[14:21]:\n",
    "        x2 = x2 + str(item)    \n",
    "    x2 = int(x2, 2)\n",
    "    \n",
    "    for item in individual[21:28]:\n",
    "        y2 = y2 + str(item)    \n",
    "    y2 = int(y2, 2)\n",
    "    \n",
    "    #Fase 1 (distancia euclidiana em função dos pontos do dada set e definição dos clusters\n",
    "    clusters_1 = []\n",
    "    clusters_2 = []\n",
    "    for i in dataset:\n",
    "        c1 = distanciaEuclidiana(i, (x1, y1))\n",
    "        c2 = distanciaEuclidiana(i, (x2, y2))\n",
    "        \n",
    "        if c1 < c2:\n",
    "            clusters_1.append(i)\n",
    "        else:\n",
    "            clusters_2.append(i)\n",
    "            \n",
    "    #Fase dois: atualização do centroides dos clusters\n",
    "    c1_soma_x = x1\n",
    "    c1_soma_y = y1\n",
    "    for i in clusters_1:\n",
    "        x, y = i\n",
    "        c1_soma_x += x\n",
    "        c1_soma_y += y\n",
    "        \n",
    "    #c1_novo = (sum(clusters_1) + (x1, y1))/(len(clusters_1)+1)\n",
    "        \n",
    "    c2_soma_x = x2\n",
    "    c2_soma_y = y2\n",
    "    for i in clusters_2:\n",
    "        x, y = i\n",
    "        c2_soma_x += x\n",
    "        c2_soma_y += y\n",
    "        \n",
    "    #Recalcula os centroides\n",
    "    c1_soma_x = c1_soma_x/(len(clusters_1)+1)\n",
    "    c1_soma_y = c1_soma_y/(len(clusters_1)+1)\n",
    "    c2_soma_x = c2_soma_x/(len(clusters_2)+1)\n",
    "    c2_soma_y = c2_soma_y/(len(clusters_2)+1)\n",
    "    \n",
    "    #c2_novo = (sum(clusters_2) + (x2, y2))/(len(clusters_2)+1)\n",
    "    m = 0\n",
    "    for a, b in zip(clusters_1, clusters_2):\n",
    "        m += distanciaEuclidiana(a, (c1_soma_x,c1_soma_y))\n",
    "        m += distanciaEuclidiana(b, (c2_soma_x,c2_soma_y))\n",
    "        \n",
    "    #print(\"m:\" + str(m))\n",
    "    if m != 0:\n",
    "        f = 1/m\n",
    "    else: \n",
    "        f = 0\n",
    "\n",
    "    return f,"
   ]
  },
  {
   "cell_type": "code",
   "execution_count": 47,
   "metadata": {},
   "outputs": [],
   "source": [
    "random.seed(9001) #Para gerar sempre a mesma sequência\n",
    "\n",
    "# Criação de 3 datasets com 10 pontos gerados aleatoriamente no R²\n",
    "dataset1 = [(randrange(127), randrange(127)) for _ in range(10)]\n",
    "dataset2 = [(randrange(127), randrange(127)) for _ in range(10)]\n",
    "dataset3 = [(randrange(127), randrange(127)) for _ in range(10)]          "
   ]
  },
  {
   "cell_type": "code",
   "execution_count": 43,
   "metadata": {},
   "outputs": [
    {
     "name": "stderr",
     "output_type": "stream",
     "text": [
      "/home/karine/anaconda3/lib/python3.6/site-packages/deap/creator.py:141: RuntimeWarning: A class named 'FitnessMax' has already been created and it will be overwritten. Consider deleting previous creation of that class or rename it.\n",
      "  RuntimeWarning)\n",
      "/home/karine/anaconda3/lib/python3.6/site-packages/deap/creator.py:141: RuntimeWarning: A class named 'Individual' has already been created and it will be overwritten. Consider deleting previous creation of that class or rename it.\n",
      "  RuntimeWarning)\n"
     ]
    }
   ],
   "source": [
    "## creating fitness values and weights\n",
    "creator.create(\"FitnessMax\", base.Fitness, weights=(1.0,))\n",
    "creator.create(\"Individual\", list, fitness=creator.FitnessMax)\n",
    "\n",
    "toolbox = base.Toolbox()\n",
    "\n",
    "# Each gene (cluster) is assigned 1 or 0\n",
    "toolbox.register(\"attr_bool\", random.randint, 0, 1)\n",
    "# total genes in a chromosome(individual) = set to 100 (the more genes the better result)\n",
    "toolbox.register(\"individual\", tools.initRepeat, creator.Individual, toolbox.attr_bool, n=28) \n",
    "# creating population from all the chromosomes\n",
    "toolbox.register(\"population\", tools.initRepeat, list, toolbox.individual)\n",
    "\n",
    "\n",
    "# evaluation of each chromosome\n",
    "toolbox.register(\"evaluate\", evalOneMax)\n",
    "# mating / cross-over of two chromosomes\n",
    "toolbox.register(\"mate\", tools.cxTwoPoint)\n",
    "# mutation with mutation probability = 0.05\n",
    "toolbox.register(\"mutate\", tools.mutFlipBit, indpb=0.5)\n",
    "# tournament selection with size =3\n",
    "toolbox.register(\"select\", tools.selTournament, tournsize=3)\n",
    "\n",
    "# creating total population of size 300\n",
    "population = toolbox.population(n=300)\n",
    "\n",
    "# next generation size = 40\n",
    "NGEN=40\n",
    "for gen in range(NGEN):\n",
    "    offspring = algorithms.varAnd(population, toolbox, cxpb=0.8, mutpb=0.5)\n",
    "    fits = toolbox.map(toolbox.evaluate, offspring)\n",
    "    for fit, ind in zip(fits, offspring):\n",
    "        ind.fitness.values = fit\n",
    "    population = toolbox.select(offspring, k=len(population))\n",
    "    \n",
    "# selecting top 3 best chromosomes    \n",
    "top3 = tools.selBest(population, k=3)"
   ]
  },
  {
   "cell_type": "code",
   "execution_count": 45,
   "metadata": {},
   "outputs": [
    {
     "name": "stdout",
     "output_type": "stream",
     "text": [
      "(111, 33) (87, 45)\n",
      "(111, 33) (87, 45)\n",
      "(111, 33) (87, 45)\n"
     ]
    }
   ],
   "source": [
    "for item in top3:\n",
    "    c1, c2 = converte_individuos(item)\n",
    "    print(c1,c2)"
   ]
  },
  {
   "cell_type": "markdown",
   "metadata": {},
   "source": [
    "PLOT - Results Experiment 1"
   ]
  },
  {
   "cell_type": "code",
   "execution_count": null,
   "metadata": {},
   "outputs": [],
   "source": []
  },
  {
   "cell_type": "code",
   "execution_count": 48,
   "metadata": {},
   "outputs": [
    {
     "data": {
      "image/png": "[encoded data removed]",
      "text/plain": [
       "<Figure size 144x72 with 1 Axes>"
      ]
     },
     "metadata": {},
     "output_type": "display_data"
    }
   ],
   "source": [
    "import pandas as pd\n",
    "import numpy as np\n",
    "\n",
    "import seaborn as sns\n",
    "import matplotlib.pyplot as plt\n",
    "%matplotlib inline\n",
    "\n",
    "#set font size of labels on matplotlib plots\n",
    "plt.rc('font', size=16)\n",
    "\n",
    "#set style of plots\n",
    "sns.set_style('white')\n",
    "\n",
    "#define a custom palette\n",
    "customPalette = ['#630C3A', '#39C8C6']\n",
    "sns.set_palette(customPalette)\n",
    "sns.palplot(customPalette)"
   ]
  },
  {
   "cell_type": "code",
   "execution_count": 53,
   "metadata": {},
   "outputs": [],
   "source": [
    "#define labels and where they should go\n",
    "centroide1, centroide2 = converte_individuos(top3[0])"
   ]
  },
  {
   "cell_type": "code",
   "execution_count": 54,
   "metadata": {},
   "outputs": [],
   "source": [
    "clusters_1 = []\n",
    "clusters_2 = []\n",
    "for i in dataset1:\n",
    "    c1 = distanciaEuclidiana(i, centroide1)\n",
    "    c2 = distanciaEuclidiana(i, centroide2)\n",
    "        \n",
    "    if c1 < c2:\n",
    "        clusters_1.append(i)\n",
    "    else:\n",
    "        clusters_2.append(i)"
   ]
  },
  {
   "cell_type": "code",
   "execution_count": 82,
   "metadata": {},
   "outputs": [
    {
     "data": {
      "image/png": "[encoded data removed]",
      "text/plain": [
       "<Figure size 432x288 with 1 Axes>"
      ]
     },
     "metadata": {},
     "output_type": "display_data"
    }
   ],
   "source": [
    "import numpy as np\n",
    "import matplotlib.pyplot as plt\n",
    "\n",
    "# Create data\n",
    "\n",
    "x_list = []\n",
    "y_list = []\n",
    "for i in dataset1:\n",
    "    x, y = i\n",
    "    x_list.append(x)\n",
    "    y_list.append(y)\n",
    "\n",
    "colors = (\"red\", \"green\")\n",
    "\n",
    "plt.scatter(x_list, y_list, alpha=0.5)\n",
    "plt.show()"
   ]
  }
 ],
 "metadata": {
  "kernelspec": {
   "display_name": "Python 3",
   "language": "python",
   "name": "python3"
  },
  "language_info": {
   "codemirror_mode": {
    "name": "ipython",
    "version": 3
   },
   "file_extension": ".py",
   "mimetype": "text/x-python",
   "name": "python",
   "nbconvert_exporter": "python",
   "pygments_lexer": "ipython3",
   "version": "3.6.5"
  }
 },
 "nbformat": 4,
 "nbformat_minor": 2
}
