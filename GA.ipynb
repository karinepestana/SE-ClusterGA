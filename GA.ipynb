{
 "cells": [
  {
   "cell_type": "markdown",
   "metadata": {},
   "source": [
    "IMPORTAÇÕES (Executar antes)"
   ]
  },
  {
   "cell_type": "code",
   "execution_count": 1,
   "metadata": {},
   "outputs": [],
   "source": [
    "import math\n",
    "import random\n",
    "from random import randrange\n",
    "from deap import creator, base, tools, algorithms\n",
    "import numpy as np \n",
    "import pandas as pd\n",
    "import seaborn as sns; \n",
    "import matplotlib.pyplot as plt"
   ]
  },
  {
   "cell_type": "markdown",
   "metadata": {},
   "source": [
    "GA (Implementado de forma genérica/Necessário atualizar as variáveis globais)"
   ]
  },
  {
   "cell_type": "code",
   "execution_count": 2,
   "metadata": {},
   "outputs": [],
   "source": [
    "#Atualizar antes da execução\n",
    "n_clusters = 0\n",
    "datasettestado =  ''\n",
    "size = 0\n",
    "NGEN= 50\n",
    "dic_cluster = ['A', 'B', 'C', 'D', 'E', 'F', 'G', 'H', 'I', 'J']"
   ]
  },
  {
   "cell_type": "code",
   "execution_count": 3,
   "metadata": {},
   "outputs": [],
   "source": [
    "def distanciaEuclidiana(ponto1, ponto2):\n",
    "    x1,y1 = ponto1\n",
    "    x2,y2 = ponto2\n",
    "    \n",
    "    dist = math.sqrt((x2 - x1)**2 + (y2 - y1)**2)\n",
    "    return dist"
   ]
  },
  {
   "cell_type": "code",
   "execution_count": 4,
   "metadata": {},
   "outputs": [],
   "source": [
    "#Converte de binário para decimal\n",
    "def converte_individuos(individual, k, tam):\n",
    "\n",
    "    individuos = []\n",
    "    c = 0\n",
    "    \n",
    "    for i in range(0,k*2):\n",
    "        aux = ''        \n",
    "        for j in range(c, tam+c):\n",
    "            aux = aux + str(individual[j])            \n",
    "        c +=tam\n",
    "        aux = int(aux, 2)\n",
    "        individuos.append(aux)    \n",
    "    \n",
    "    return individuos"
   ]
  },
  {
   "cell_type": "code",
   "execution_count": 5,
   "metadata": {},
   "outputs": [],
   "source": [
    "#Função que dado o dadaset divide-o em cluster de acordo com os centroides atuais\n",
    "def separa_clusters(dataset, individuos, k):    \n",
    "    #iniciliza os clusters \n",
    "    clusters = []    \n",
    "    j = 0\n",
    "    \n",
    "    for l in range(0,k):\n",
    "        aux = []\n",
    "        clusters.append(aux)\n",
    "\n",
    "    #calcula a distância euclidiana para todos os pontos do dataset\n",
    "    for item in dataset:\n",
    "        c = []\n",
    "        i = 0\n",
    "        j = 0         \n",
    "        for i in range(0,k):\n",
    "            item2 = (individuos[j], individuos[j+1])\n",
    "            c.append(distanciaEuclidiana(item, item2))\n",
    "            j+=2\n",
    "  \n",
    "        #encontra a menor distância para adicionar o elemento ao cluster correto        \n",
    "        indice = c.index(min(c))\n",
    "        \n",
    "        clusters[indice].append(item)\n",
    "    #print(clusters)\n",
    "    return clusters"
   ]
  },
  {
   "cell_type": "code",
   "execution_count": 6,
   "metadata": {},
   "outputs": [],
   "source": [
    "#Recalcula os novos centroides após o agrupamento em clusters\n",
    "def atualiza_centroides(individuos, k, clusters):\n",
    "    \n",
    "    novos_centroides = []\n",
    "    j = 0\n",
    "    \n",
    "    for i in range(0, k):        \n",
    "        aux = [individuos[j], individuos[j+1]]\n",
    "        j += 2\n",
    "        novos_centroides.append(aux)\n",
    "        \n",
    "        for aux in clusters[i]:\n",
    "            x, y = aux            \n",
    "            novos_centroides[i][0] += x\n",
    "            novos_centroides[i][1] += y \n",
    "            \n",
    "        novos_centroides[i][0] = novos_centroides[i][0]/(len(clusters[i])+1)\n",
    "        \n",
    "    return novos_centroides"
   ]
  },
  {
   "cell_type": "code",
   "execution_count": 7,
   "metadata": {},
   "outputs": [],
   "source": [
    "#Função de avaliação individual de cada individuo\n",
    "def evalOneMax(individual):\n",
    "    \n",
    "    #Faz a conversão para decimal\n",
    "    individuos = converte_individuos(individual, n_clusters, size)\n",
    "    #print(individuos)\n",
    "    \n",
    "    #Fase 1: distancia euclidiana em função dos pontos do dadaset e definição dos clusters \n",
    "    clusters = separa_clusters(datasettestado, individuos, n_clusters)\n",
    "    \n",
    "    #Fase 2: atualização do centroides dos clusters    \n",
    "    novos_centroides = atualiza_centroides(individuos, n_clusters, clusters)\n",
    "    \n",
    "    #Apartir dos novos centroides as distâncias são recalculadas, gerando a função de avaliação\n",
    "    m = 0\n",
    "    j = 0\n",
    "    c = 0\n",
    "\n",
    "    for lista in clusters:        \n",
    "        for item in lista:            \n",
    "            m += distanciaEuclidiana(item, (novos_centroides[c][j], novos_centroides[c][j+1]))            \n",
    "        c += 1\n",
    "        \n",
    "    if m != 0:\n",
    "        f = 1/m\n",
    "    else: \n",
    "        f = 0\n",
    "\n",
    "    return f,"
   ]
  },
  {
   "cell_type": "code",
   "execution_count": 8,
   "metadata": {},
   "outputs": [],
   "source": [
    "def GA():\n",
    "\n",
    "    creator.create(\"FitnessMax\", base.Fitness, weights=(1.0,))\n",
    "    creator.create(\"Individual\", list, fitness=creator.FitnessMax)\n",
    "\n",
    "    toolbox = base.Toolbox()\n",
    "\n",
    "    # Cada gene pode ser 0 ou 1 (repersentação binária)\n",
    "    toolbox.register(\"attr_bool\", random.randint, 0, 1)\n",
    "    #Define cada individuo\n",
    "    toolbox.register(\"individual\", tools.initRepeat, creator.Individual, toolbox.attr_bool, n=size*2*n_clusters) \n",
    "    #Cria a população com os individuos declarados acima\n",
    "    toolbox.register(\"population\", tools.initRepeat, list, toolbox.individual)\n",
    "\n",
    "\n",
    "    #Função de avaliação para cada individuo\n",
    "    toolbox.register(\"evaluate\", evalOneMax)\n",
    "\n",
    "    toolbox.register(\"mate\", tools.cxTwoPoint)\n",
    "\n",
    "    toolbox.register(\"mutate\", tools.mutFlipBit, indpb=0.5)\n",
    "\n",
    "    toolbox.register(\"select\", tools.selTournament, tournsize=3)\n",
    "\n",
    "    #Define o tamanho da população\n",
    "    population = toolbox.population(n=8)\n",
    "\n",
    "    for gen in range(NGEN):\n",
    "        offspring = algorithms.varAnd(population, toolbox, cxpb=0.8, mutpb=0.5)\n",
    "        fits = toolbox.map(toolbox.evaluate, offspring)\n",
    "        for fit, ind in zip(fits, offspring):\n",
    "            ind.fitness.values = fit\n",
    "        population = toolbox.select(offspring, k=len(population))\n",
    "     \n",
    "\n",
    "    #seleção dos 10 melhores\n",
    "    top10 = tools.selBest(population, k=10)\n",
    "    return top10"
   ]
  },
  {
   "cell_type": "markdown",
   "metadata": {},
   "source": [
    "PLOT - Genérico"
   ]
  },
  {
   "cell_type": "code",
   "execution_count": 9,
   "metadata": {},
   "outputs": [],
   "source": [
    "def gera_pontos(cluster, id_cluster):\n",
    "    x_list = []\n",
    "    y_list = []\n",
    "    tipo_cluster = []\n",
    "    \n",
    "    for i in cluster:\n",
    "        x, y = i\n",
    "        x_list.append(x)\n",
    "        y_list.append(y)\n",
    "        tipo_cluster.append(id_cluster)\n",
    "        \n",
    "    return x_list, y_list, tipo_cluster"
   ]
  },
  {
   "cell_type": "code",
   "execution_count": 10,
   "metadata": {},
   "outputs": [],
   "source": [
    "def gera_dataframe(dataset, k, res):\n",
    "    x_list = []\n",
    "    y_list = []\n",
    "    id_cluster = []\n",
    "    c = 0\n",
    "\n",
    "    centroides = converte_individuos(res, k, size)\n",
    "    clusters = separa_clusters(dataset, centroides, k)\n",
    "\n",
    "    for item in clusters:\n",
    "        x, y, idi_cluster = gera_pontos(item, dic_cluster[c])\n",
    "        x_list = x_list + x\n",
    "        y_list = y_list + y\n",
    "        id_cluster =  id_cluster + idi_cluster        \n",
    "        c +=1\n",
    "\n",
    "    data = {'x': x_list,\n",
    "            'y': y_list,\n",
    "            'Cluster': id_cluster}\n",
    "\n",
    "    # Create DataFrame\n",
    "    df = pd.DataFrame(data)\n",
    "\n",
    "    return df    "
   ]
  },
  {
   "cell_type": "code",
   "execution_count": 11,
   "metadata": {},
   "outputs": [],
   "source": [
    "def gera_plot(dataset, k, res):\n",
    "    df = gera_dataframe(dataset, k, res)\n",
    "    tips = sns.load_dataset(\"tips\")\n",
    "    ax = sns.scatterplot(x=\"x\", y=\"y\",hue=\"Cluster\", data=df)"
   ]
  },
  {
   "cell_type": "markdown",
   "metadata": {},
   "source": [
    "Experiment 1"
   ]
  },
  {
   "cell_type": "code",
   "execution_count": 12,
   "metadata": {},
   "outputs": [],
   "source": [
    "random.seed(9001) #Para gerar sempre a mesma sequência\n",
    "\n",
    "# Criação de 3 datasets com 10 pontos gerados aleatoriamente no R²\n",
    "dataset1 = [(randrange(127), randrange(127)) for _ in range(10)]\n",
    "dataset2 = [(randrange(127), randrange(127)) for _ in range(10)]\n",
    "dataset3 = [(randrange(127), randrange(127)) for _ in range(10)]          "
   ]
  },
  {
   "cell_type": "code",
   "execution_count": 13,
   "metadata": {},
   "outputs": [
    {
     "data": {
      "image/png": "[encoded data removed]",
      "text/plain": [
       "<Figure size 432x288 with 1 Axes>"
      ]
     },
     "metadata": {},
     "output_type": "display_data"
    }
   ],
   "source": [
    "#Dataset 1\n",
    "n_clusters = 2\n",
    "datasettestado =  dataset1\n",
    "size = 7\n",
    "NGEN=40\n",
    "\n",
    "top10 = GA()\n",
    "gera_plot(datasettestado, n_clusters, top10[0])"
   ]
  },
  {
   "cell_type": "code",
   "execution_count": 14,
   "metadata": {},
   "outputs": [
    {
     "name": "stderr",
     "output_type": "stream",
     "text": [
      "/home/karine/anaconda3/lib/python3.6/site-packages/deap/creator.py:141: RuntimeWarning: A class named 'FitnessMax' has already been created and it will be overwritten. Consider deleting previous creation of that class or rename it.\n",
      "  RuntimeWarning)\n",
      "/home/karine/anaconda3/lib/python3.6/site-packages/deap/creator.py:141: RuntimeWarning: A class named 'Individual' has already been created and it will be overwritten. Consider deleting previous creation of that class or rename it.\n",
      "  RuntimeWarning)\n"
     ]
    },
    {
     "data": {
      "image/png": "[encoded data removed]",
      "text/plain": [
       "<Figure size 432x288 with 1 Axes>"
      ]
     },
     "metadata": {},
     "output_type": "display_data"
    }
   ],
   "source": [
    "#Dataset 2\n",
    "n_clusters = 2\n",
    "datasettestado =  dataset2\n",
    "size = 7\n",
    "NGEN=40\n",
    "\n",
    "top10 = GA()\n",
    "gera_plot(datasettestado, n_clusters, top10[0])"
   ]
  },
  {
   "cell_type": "code",
   "execution_count": 15,
   "metadata": {},
   "outputs": [
    {
     "name": "stderr",
     "output_type": "stream",
     "text": [
      "/home/karine/anaconda3/lib/python3.6/site-packages/deap/creator.py:141: RuntimeWarning: A class named 'FitnessMax' has already been created and it will be overwritten. Consider deleting previous creation of that class or rename it.\n",
      "  RuntimeWarning)\n",
      "/home/karine/anaconda3/lib/python3.6/site-packages/deap/creator.py:141: RuntimeWarning: A class named 'Individual' has already been created and it will be overwritten. Consider deleting previous creation of that class or rename it.\n",
      "  RuntimeWarning)\n"
     ]
    },
    {
     "data": {
      "image/png": "[encoded data removed]",
      "text/plain": [
       "<Figure size 432x288 with 1 Axes>"
      ]
     },
     "metadata": {},
     "output_type": "display_data"
    }
   ],
   "source": [
    "#Dataset 3\n",
    "n_clusters = 2\n",
    "datasettestado =  dataset3\n",
    "size = 7\n",
    "NGEN=40\n",
    "\n",
    "top10 = GA()\n",
    "gera_plot(datasettestado, n_clusters, top10[0])"
   ]
  },
  {
   "cell_type": "markdown",
   "metadata": {},
   "source": [
    "Experiment 2"
   ]
  },
  {
   "cell_type": "code",
   "execution_count": 16,
   "metadata": {},
   "outputs": [],
   "source": [
    "random.seed(5064) #Para gerar sempre a mesma sequência\n",
    "\n",
    "\n",
    "# Criação de 5 datasets com 50 pontos gerados aleatoriamente no R²\n",
    "classe1 = [(randrange(0,500), randrange(0,500)) for _ in range(10)]\n",
    "classe2 = [(randrange(1000,1500), randrange(1000,1500)) for _ in range(10)]\n",
    "classe3 = [(randrange(2000,2500), randrange(2000,2500)) for _ in range(10)]\n",
    "classe4 = [(randrange(3000,3500), randrange(3000,3500)) for _ in range(10)]"
   ]
  },
  {
   "cell_type": "code",
   "execution_count": 17,
   "metadata": {},
   "outputs": [
    {
     "name": "stderr",
     "output_type": "stream",
     "text": [
      "/home/karine/anaconda3/lib/python3.6/site-packages/deap/creator.py:141: RuntimeWarning: A class named 'FitnessMax' has already been created and it will be overwritten. Consider deleting previous creation of that class or rename it.\n",
      "  RuntimeWarning)\n",
      "/home/karine/anaconda3/lib/python3.6/site-packages/deap/creator.py:141: RuntimeWarning: A class named 'Individual' has already been created and it will be overwritten. Consider deleting previous creation of that class or rename it.\n",
      "  RuntimeWarning)\n"
     ]
    },
    {
     "data": {
      "image/png": "[encoded data removed]",
      "text/plain": [
       "<Figure size 432x288 with 1 Axes>"
      ]
     },
     "metadata": {},
     "output_type": "display_data"
    }
   ],
   "source": [
    "#Dataset 1\n",
    "n_clusters = 4\n",
    "datasettestado = classe1 + classe2 + classe3 + classe4\n",
    "size = 12\n",
    "NGEN = 10000\n",
    "\n",
    "top10 = GA()\n",
    "gera_plot(datasettestado, n_clusters, top10[0])"
   ]
  }
 ],
 "metadata": {
  "kernelspec": {
   "display_name": "Python 3",
   "language": "python",
   "name": "python3"
  },
  "language_info": {
   "codemirror_mode": {
    "name": "ipython",
    "version": 3
   },
   "file_extension": ".py",
   "mimetype": "text/x-python",
   "name": "python",
   "nbconvert_exporter": "python",
   "pygments_lexer": "ipython3",
   "version": "3.6.5"
  }
 },
 "nbformat": 4,
 "nbformat_minor": 2
}
